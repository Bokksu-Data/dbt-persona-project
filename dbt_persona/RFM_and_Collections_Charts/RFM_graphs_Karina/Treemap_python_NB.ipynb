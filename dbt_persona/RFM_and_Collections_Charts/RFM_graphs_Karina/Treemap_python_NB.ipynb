{
 "cells": [
  {
   "cell_type": "code",
   "execution_count": null,
   "metadata": {},
   "outputs": [],
   "source": [
    "df = datasets['RFM Treemaps']\n",
    "df"
   ]
  },
  {
   "cell_type": "code",
   "execution_count": null,
   "metadata": {},
   "outputs": [
    {
     "ename": "",
     "evalue": "",
     "output_type": "error",
     "traceback": [
      "\u001b[1;31mRunning cells with 'venv (Python 3.10.11)' requires the ipykernel package.\n",
      "\u001b[1;31mRun the following command to install 'ipykernel' into the Python environment. \n",
      "\u001b[1;31mCommand: '/Users/karinalam/dbt-persona-project/venv/bin/python -m pip install ipykernel -U --force-reinstall'"
     ]
    }
   ],
   "source": [
    "# Option 2: Almost there, needs more work. The boxes aren't in their correct places, i.e. Hibernating should have a Recency score of 2 and Frequency score of 2\n",
    "import matplotlib.pyplot as plt\n",
    "import squarify    \n",
    "import pandas as pd\n",
    "\n",
    "# Create a data frame with fake data\n",
    "df = pd.DataFrame({'nb_people':[1,2,3,4,5,6,7,8,9,10], 'customer_segments':[\"Hibernating\", \"At Risk\", \"Cannot Lose Them\", \"About to Sleep\", \"Need Attention\", \"Potential Loyalists\", \"Promising\", \"Loyal Customers\", \"New Customers\", \"Champions\"]})\n",
    "\n",
    "# plot it\n",
    "squarify.plot(sizes=df['nb_people'], label=df['customer_segments'], alpha=.5)\n",
    "plt.axis('on')\n",
    "\n",
    "plt.xticks([0,20, 40, 60, 80, 100], ['0','1', '2', '3', '4', '5'])\n",
    "plt.yticks([0,20, 40, 60, 80, 100], ['0','1', '2', '3', '4', '5'])\n",
    "\n",
    "plt.xlabel('Frequency')\n",
    "plt.ylabel('Recency')\n",
    "\n",
    "plt.show()\n",
    "# That graph in the historical user segmentation website is what this is supposed to look like"
   ]
  },
  {
   "cell_type": "code",
   "execution_count": null,
   "metadata": {},
   "outputs": [],
   "source": [
    "# Option 1: Doesn't work, bugs in plotting sizes = df['FREQUENCY_SCORE'] * df['RECENCY_SCORE']\n",
    "# library\n",
    "import seaborn as seaborn\n",
    "import pandas as pandas\n",
    "import numpy as numpy\n",
    "\n",
    "# Create a dataset\n",
    "dataframe = pandas.DataFrame(numpy.random.random((5,5)), columns=[\"1\",\"2\",\"3\",\"4\",\"5\"])\n",
    "\n",
    "# Default heatmap\n",
    "p1 = seaborn.heatmap(df)\n",
    "\n",
    "# Savana's edits below vv\n",
    "\n",
    "#libraries\n",
    "import matplotlib.pyplot as plt\n",
    "import squarify    # pip install squarify (algorithm for treemap)\n",
    "import pandas as pd\n",
    "\n",
    "# Create a data frame with fake data\n",
    "# df = pd.DataFrame({'nb_people':[1,2,3,4,5,6,7,8,9,10], 'customer_segments':[\"Hibernating\", \"At Risk\", \"Cannot Lose Them\", \"About to Sleep\", \"Need Attention\", \"Promising\", \"Potential Loyalists\", \"Loyal Customers\", \"New Customers\", \"Champions\"] })\n",
    "\n",
    "# plot it\n",
    "squarify.plot(sizes = df['FREQUENCY_SCORE'] * df['RECENCY_SCORE'], label=df['RFM_SEGMENT'], alpha=.8)\n",
    "plt.xlabel('Frequency')\n",
    "plt.ylabel('Recency')\n",
    "\n",
    "plt.xticks([20, 40, 60, 80, 100], ['1', '2', '3', '4', '5'])\n",
    "plt.yticks([20, 40, 60, 80, 100], ['1', '2', '3', '4', '5'])\n",
    "\n",
    "plt.show()"
   ]
  },
  {
   "cell_type": "code",
   "execution_count": null,
   "metadata": {},
   "outputs": [],
   "source": [
    "# Option 3: Doesn't work\n",
    "# Example sizes\n",
    "sizes = [50, 30, 20, 10]\n",
    "\n",
    "# Define the container rectangle\n",
    "x, y = 0, 0      # Top-left corner of the container\n",
    "width, height = 100, 100  # Total width and height of the container\n",
    "\n",
    "# Get rectangles layout\n",
    "rects = squarify.squarify(sizes=sizes, x=x, y=y, dx=width, dy=height)\n",
    "\n",
    "# Plot the rectangles\n",
    "fig, ax = plt.subplots()\n",
    "for rect in rects:\n",
    "    # Draw each rectangle as a patch\n",
    "    ax.add_patch(plt.Rectangle((rect['x'], rect['y']), rect['dx'], rect['dy'],\n",
    "                                facecolor='skyblue', edgecolor='black', alpha=0.7))\n",
    "\n",
    "# Set plot limits and aspect\n",
    "ax.set_xlim(0, width)\n",
    "ax.set_ylim(0, height)\n",
    "ax.set_aspect('equal')\n",
    "plt.show()\n"
   ]
  }
 ],
 "metadata": {
  "kernelspec": {
   "display_name": "venv",
   "language": "python",
   "name": "python3"
  },
  "language_info": {
   "name": "python",
   "version": "3.10.11"
  }
 },
 "nbformat": 4,
 "nbformat_minor": 2
}
