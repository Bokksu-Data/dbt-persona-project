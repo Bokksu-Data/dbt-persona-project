{
 "cells": [
  {
   "cell_type": "code",
   "execution_count": null,
   "metadata": {
    "vscode": {
     "languageId": "plaintext"
    }
   },
   "outputs": [],
   "source": [
    "df_collection_performance = datasets['collection'];\n",
    "df_customer_performance = datasets['customer'];"
   ]
  },
  {
   "cell_type": "code",
   "execution_count": null,
   "metadata": {
    "vscode": {
     "languageId": "plaintext"
    }
   },
   "outputs": [],
   "source": [
    "import seaborn as sns\n",
    "import matplotlib.pyplot as plt\n",
    "import numpy as np\n",
    "\n",
    "# Create a pivot table based on the collection performance data\n",
    "df_pivot_collection = df_collection_performance.pivot_table(\n",
    "    index= 'PRODUCT',\n",
    "    columns = 'COLLECTION_NAMES_ARRAY',  # Columns\n",
    "    values='TOTAL_REVENUE',  # Values\n",
    "    aggfunc='sum',  # Summing up the revenue for each product and collection\n",
    "    fill_value=0  # Fill missing values with 0\n",
    ")\n",
    "\n",
    "# Create the heatmap\n",
    "plt.figure(figsize=(20, 12))\n",
    "\n",
    "# Generate the heatmap for the collections with the adjusted color limits\n",
    "sns.heatmap(df_pivot_collection, cmap='YlGnBu', cbar_kws={'label': 'Total Revenue ($)'}, linewidths=0.5)\n",
    "\n",
    "# Customize the labels and title for clarity\n",
    "plt.title('Heatmap of Total Revenue by Collections', fontsize=16)\n",
    "plt.ylabel('Collections', fontsize=12)\n",
    "plt.xlabel('Collections', fontsize=12)\n",
    "\n",
    "# Rotate the x-axis labels for better readability\n",
    "plt.xticks(rotation=45, ha='right')\n",
    "\n",
    "# Adjust layout to prevent overlapping\n",
    "plt.tight_layout()\n",
    "\n",
    "# Display the plot\n",
    "plt.show()"
   ]
  }
 ],
 "metadata": {
  "language_info": {
   "name": "python"
  }
 },
 "nbformat": 4,
 "nbformat_minor": 2
}
